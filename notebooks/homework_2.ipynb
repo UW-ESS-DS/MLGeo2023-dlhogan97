{
 "cells": [
  {
   "cell_type": "markdown",
   "metadata": {},
   "source": [
    "# Homework 2\n",
    "### Danny Hogan\n",
    "\n",
    "**Code Reuse Note**: Code in this assignment was informed from code within the MLGEO book chapter 2.1 focused on resampling for bootstrapping and LOOCV methodology.\n",
    "\n",
    "This homework focuses on **resampling** and **noise**.\n",
    "\n",
    "This homework will explore linear regression and resampling techniques by analysing data from a database of glaciers. The database is *Glatilda* for [*Glacier Ice Thickness Database*](https://www.gtn-g.ch/data_catalogue_glathida/).\n",
    "\n",
    "1. Data Statistics\n",
    "2. Data prep (5 points)\n",
    "2. Mapping (10 points)\n",
    "3. Correlations between parameters (5 points)\n",
    "4. Linear regression and resampling techniques (10 points)\n",
    "\n",
    "## 1. Data Prep (5 points total)\n",
    "\n",
    "### a) Download data (1 point) \n",
    "The database is saved on a GitLab repository that you may clone: https://gitlab.com/wgms/glathida.git\n",
    "\n"
   ]
  },
  {
   "cell_type": "code",
   "execution_count": 1,
   "metadata": {},
   "outputs": [
    {
     "name": "stdout",
     "output_type": "stream",
     "text": [
      "Cloning into 'glathida'...\n",
      "remote: Enumerating objects: 966, done.\u001b[K\n",
      "remote: Counting objects: 100% (433/433), done.\u001b[K\n",
      "remote: Compressing objects: 100% (233/233), done.\u001b[K\n",
      "remote: Total 966 (delta 233), reused 351 (delta 189), pack-reused 533\u001b[K\n",
      "Receiving objects: 100% (966/966), 245.07 MiB | 10.74 MiB/s, done.\n",
      "Resolving deltas: 100% (544/544), done.\n",
      "Checking out files: 100% (61/61), done.\n"
     ]
    }
   ],
   "source": [
    "# downloda data\n",
    "!git clone https://gitlab.com/wgms/glathida.git "
   ]
  },
  {
   "cell_type": "markdown",
   "metadata": {},
   "source": [
    "### b) Import Python modules (1 point) \n",
    "Import pandas, geopandas, plotting, raster files,  numpy, netcdf"
   ]
  },
  {
   "cell_type": "code",
   "execution_count": 1,
   "metadata": {},
   "outputs": [],
   "source": [
    "import numpy as np\n",
    "import pandas as pd\n",
    "import geopandas as gpd\n",
    "import matplotlib.pyplot as plt\n",
    "import seaborn as sns\n",
    "import xarray as xr\n",
    "import rasterio as rio"
   ]
  },
  {
   "cell_type": "markdown",
   "metadata": {},
   "source": [
    "### c) Read data (2 points)\n",
    "Read the glacier data from the file ``glathida/data/glacier.csv`` into a pandas data frame, and decribe briefly the dataframe content and its first few lines."
   ]
  },
  {
   "cell_type": "code",
   "execution_count": 126,
   "metadata": {},
   "outputs": [
    {
     "name": "stdout",
     "output_type": "stream",
     "text": [
      "Index(['id', 'survey_id', 'name', 'external_db', 'external_id', 'latitude',\n",
      "       'longitude', 'date', 'max_date', 'area', 'mean_slope', 'mean_thickness',\n",
      "       'mean_thickness_uncertainty', 'max_thickness',\n",
      "       'max_thickness_uncertainty', 'number_points', 'number_profiles',\n",
      "       'length_profiles', 'interpolation_method', 'flag', 'remarks'],\n",
      "      dtype='object')\n"
     ]
    },
    {
     "data": {
      "text/html": [
       "<div>\n",
       "<style scoped>\n",
       "    .dataframe tbody tr th:only-of-type {\n",
       "        vertical-align: middle;\n",
       "    }\n",
       "\n",
       "    .dataframe tbody tr th {\n",
       "        vertical-align: top;\n",
       "    }\n",
       "\n",
       "    .dataframe thead th {\n",
       "        text-align: right;\n",
       "    }\n",
       "</style>\n",
       "<table border=\"1\" class=\"dataframe\">\n",
       "  <thead>\n",
       "    <tr style=\"text-align: right;\">\n",
       "      <th></th>\n",
       "      <th>id</th>\n",
       "      <th>survey_id</th>\n",
       "      <th>name</th>\n",
       "      <th>external_db</th>\n",
       "      <th>external_id</th>\n",
       "      <th>latitude</th>\n",
       "      <th>longitude</th>\n",
       "      <th>date</th>\n",
       "      <th>max_date</th>\n",
       "      <th>area</th>\n",
       "      <th>...</th>\n",
       "      <th>mean_thickness</th>\n",
       "      <th>mean_thickness_uncertainty</th>\n",
       "      <th>max_thickness</th>\n",
       "      <th>max_thickness_uncertainty</th>\n",
       "      <th>number_points</th>\n",
       "      <th>number_profiles</th>\n",
       "      <th>length_profiles</th>\n",
       "      <th>interpolation_method</th>\n",
       "      <th>flag</th>\n",
       "      <th>remarks</th>\n",
       "    </tr>\n",
       "  </thead>\n",
       "  <tbody>\n",
       "    <tr>\n",
       "      <th>0</th>\n",
       "      <td>1</td>\n",
       "      <td>1</td>\n",
       "      <td>Isfallsglaciären</td>\n",
       "      <td>WGI</td>\n",
       "      <td>SE4B000E0006</td>\n",
       "      <td>67.91500</td>\n",
       "      <td>18.56800</td>\n",
       "      <td>1979-03-01</td>\n",
       "      <td>1979-03-31</td>\n",
       "      <td>1.3</td>\n",
       "      <td>...</td>\n",
       "      <td>72.0</td>\n",
       "      <td>NaN</td>\n",
       "      <td>220.0</td>\n",
       "      <td>NaN</td>\n",
       "      <td>NaN</td>\n",
       "      <td>NaN</td>\n",
       "      <td>NaN</td>\n",
       "      <td>NaN</td>\n",
       "      <td>NaN</td>\n",
       "      <td>NaN</td>\n",
       "    </tr>\n",
       "    <tr>\n",
       "      <th>1</th>\n",
       "      <td>2</td>\n",
       "      <td>1</td>\n",
       "      <td>Rabots glaciär</td>\n",
       "      <td>WGI</td>\n",
       "      <td>SE4B000E1016</td>\n",
       "      <td>67.91000</td>\n",
       "      <td>18.49600</td>\n",
       "      <td>1979-03-01</td>\n",
       "      <td>1979-03-31</td>\n",
       "      <td>4.1</td>\n",
       "      <td>...</td>\n",
       "      <td>84.0</td>\n",
       "      <td>NaN</td>\n",
       "      <td>175.0</td>\n",
       "      <td>NaN</td>\n",
       "      <td>NaN</td>\n",
       "      <td>10.0</td>\n",
       "      <td>NaN</td>\n",
       "      <td>NaN</td>\n",
       "      <td>NaN</td>\n",
       "      <td>NaN</td>\n",
       "    </tr>\n",
       "    <tr>\n",
       "      <th>2</th>\n",
       "      <td>3</td>\n",
       "      <td>1</td>\n",
       "      <td>Storglaciären</td>\n",
       "      <td>WGI</td>\n",
       "      <td>SE4B000E0005</td>\n",
       "      <td>67.90000</td>\n",
       "      <td>18.57000</td>\n",
       "      <td>1979-03-01</td>\n",
       "      <td>1979-03-31</td>\n",
       "      <td>3.1</td>\n",
       "      <td>...</td>\n",
       "      <td>99.0</td>\n",
       "      <td>NaN</td>\n",
       "      <td>250.0</td>\n",
       "      <td>NaN</td>\n",
       "      <td>NaN</td>\n",
       "      <td>NaN</td>\n",
       "      <td>NaN</td>\n",
       "      <td>NaN</td>\n",
       "      <td>NaN</td>\n",
       "      <td>NaN</td>\n",
       "    </tr>\n",
       "    <tr>\n",
       "      <th>3</th>\n",
       "      <td>4</td>\n",
       "      <td>2</td>\n",
       "      <td>South Cascade Glacier</td>\n",
       "      <td>WGI</td>\n",
       "      <td>US2M00264006</td>\n",
       "      <td>48.35698</td>\n",
       "      <td>-121.05735</td>\n",
       "      <td>1975-01-01</td>\n",
       "      <td>1975-12-31</td>\n",
       "      <td>2.0</td>\n",
       "      <td>...</td>\n",
       "      <td>99.0</td>\n",
       "      <td>NaN</td>\n",
       "      <td>195.0</td>\n",
       "      <td>NaN</td>\n",
       "      <td>NaN</td>\n",
       "      <td>NaN</td>\n",
       "      <td>NaN</td>\n",
       "      <td>NaN</td>\n",
       "      <td>NaN</td>\n",
       "      <td>NaN</td>\n",
       "    </tr>\n",
       "    <tr>\n",
       "      <th>4</th>\n",
       "      <td>5</td>\n",
       "      <td>3</td>\n",
       "      <td>Athabasca Glacier</td>\n",
       "      <td>FOG</td>\n",
       "      <td>7</td>\n",
       "      <td>52.17540</td>\n",
       "      <td>-117.28400</td>\n",
       "      <td>NaN</td>\n",
       "      <td>NaN</td>\n",
       "      <td>3.8</td>\n",
       "      <td>...</td>\n",
       "      <td>150.0</td>\n",
       "      <td>NaN</td>\n",
       "      <td>NaN</td>\n",
       "      <td>NaN</td>\n",
       "      <td>NaN</td>\n",
       "      <td>NaN</td>\n",
       "      <td>NaN</td>\n",
       "      <td>NaN</td>\n",
       "      <td>NaN</td>\n",
       "      <td>NaN</td>\n",
       "    </tr>\n",
       "  </tbody>\n",
       "</table>\n",
       "<p>5 rows × 21 columns</p>\n",
       "</div>"
      ],
      "text/plain": [
       "   id  survey_id                   name external_db   external_id  latitude  \\\n",
       "0   1          1       Isfallsglaciären         WGI  SE4B000E0006  67.91500   \n",
       "1   2          1         Rabots glaciär         WGI  SE4B000E1016  67.91000   \n",
       "2   3          1          Storglaciären         WGI  SE4B000E0005  67.90000   \n",
       "3   4          2  South Cascade Glacier         WGI  US2M00264006  48.35698   \n",
       "4   5          3      Athabasca Glacier         FOG             7  52.17540   \n",
       "\n",
       "   longitude        date    max_date  area  ...  mean_thickness  \\\n",
       "0   18.56800  1979-03-01  1979-03-31   1.3  ...            72.0   \n",
       "1   18.49600  1979-03-01  1979-03-31   4.1  ...            84.0   \n",
       "2   18.57000  1979-03-01  1979-03-31   3.1  ...            99.0   \n",
       "3 -121.05735  1975-01-01  1975-12-31   2.0  ...            99.0   \n",
       "4 -117.28400         NaN         NaN   3.8  ...           150.0   \n",
       "\n",
       "   mean_thickness_uncertainty  max_thickness  max_thickness_uncertainty  \\\n",
       "0                         NaN          220.0                        NaN   \n",
       "1                         NaN          175.0                        NaN   \n",
       "2                         NaN          250.0                        NaN   \n",
       "3                         NaN          195.0                        NaN   \n",
       "4                         NaN            NaN                        NaN   \n",
       "\n",
       "   number_points  number_profiles  length_profiles  interpolation_method flag  \\\n",
       "0            NaN              NaN              NaN                   NaN  NaN   \n",
       "1            NaN             10.0              NaN                   NaN  NaN   \n",
       "2            NaN              NaN              NaN                   NaN  NaN   \n",
       "3            NaN              NaN              NaN                   NaN  NaN   \n",
       "4            NaN              NaN              NaN                   NaN  NaN   \n",
       "\n",
       "  remarks  \n",
       "0     NaN  \n",
       "1     NaN  \n",
       "2     NaN  \n",
       "3     NaN  \n",
       "4     NaN  \n",
       "\n",
       "[5 rows x 21 columns]"
      ]
     },
     "execution_count": 126,
     "metadata": {},
     "output_type": "execute_result"
    }
   ],
   "source": [
    "# solution\n",
    "t_path = \"glathida/data/glacier.csv\"\n",
    "glacier_df = pd.read_csv(t_path)\n",
    "print(glacier_df.columns)\n",
    "glacier_df.head()"
   ]
  },
  {
   "cell_type": "markdown",
   "metadata": {},
   "source": [
    "**Description**\n",
    "\n",
    "This dataset provides information on the location and survey dates of different glaciers around the world and what external database that data is taken fromm. There are number of different metrics that are reported to describe the results from the glacier including things like area, mean slope, and thickness, among others."
   ]
  },
  {
   "cell_type": "markdown",
   "metadata": {},
   "source": [
    "**Explore the data with visualization**\n",
    "Before making any inference of models with the data, we will start by exploring basic correlations among parameters by plotting. In particular, we will focus on ``mean_thickness``, ``area``, ``mean_slope`` parameters."
   ]
  },
  {
   "cell_type": "code",
   "execution_count": 3,
   "metadata": {},
   "outputs": [
    {
     "data": {
      "image/png": "[encoded data removed]",
      "text/plain": [
       "<Figure size 800x400 with 3 Axes>"
      ]
     },
     "metadata": {},
     "output_type": "display_data"
    }
   ],
   "source": [
    "# lets make some simple plots\n",
    "# first lets make some histograms of our data. I'll just focus on mean_thickness, area, and mean_slope\n",
    "fig, axs = plt.subplots(1,3, tight_layout=True, figsize=(8,4))\n",
    "axs = axs.ravel()\n",
    "col_list = ['mean_thickness', 'area','mean_slope']\n",
    "for i, col in enumerate(col_list):\n",
    "    axs[i].hist(glacier_df[col])\n",
    "    axs[i].set_title(f'histogram of {col}')\n"
   ]
  },
  {
   "cell_type": "markdown",
   "metadata": {},
   "source": [
    "glacier_df### d) Remove bad data (1 point)\n",
    "\n",
    "The database may contain Nans and other \"bad\" values (welcome to the data world!). First we will clean the data by removing nans. We are mostly interested in the thickness, area, and slope"
   ]
  },
  {
   "cell_type": "code",
   "execution_count": 4,
   "metadata": {},
   "outputs": [
    {
     "name": "stdout",
     "output_type": "stream",
     "text": [
      "Pre-filtered shape: (1012, 6)\n",
      "Post-filtered shape: (110, 6)\n"
     ]
    }
   ],
   "source": [
    "col_list = ['name','latitude','longitude','mean_thickness', 'area','mean_slope']\n",
    "# create sub_df\n",
    "sub_df = glacier_df[col_list]\n",
    "print(f'Pre-filtered shape: {sub_df.shape}')\n",
    "sub_filtered_df = sub_df.dropna().reset_index(drop=True)\n",
    "print(f'Post-filtered shape: {sub_filtered_df.shape}')\n"
   ]
  },
  {
   "cell_type": "markdown",
   "metadata": {},
   "source": [
    "## 2. Mapping glaciers (10 points)\n",
    "\n",
    "Make a global map of the glaciers. Use either of the tools we learned in class:\n",
    "* Geopandas, DEMs from NetCDFfiles (see chapter 2.4)\n",
    "* Pandas and Plotly (see chapter 2.2). You may need to transform some of the series into log-spaced values for better visualization."
   ]
  },
  {
   "cell_type": "markdown",
   "metadata": {},
   "source": [
    "### Option 1: Tif and matplotlib\n",
    "\n",
    "You can use the ``elevation`` data from the DEM seen in class. Download the DEM file (https://www.dropbox.com/s/j5lxhd8uxrtsxko/HYP_50M_SR.tif?dl=1)"
   ]
  },
  {
   "cell_type": "code",
   "execution_count": 5,
   "metadata": {},
   "outputs": [],
   "source": [
    "# solution"
   ]
  },
  {
   "cell_type": "markdown",
   "metadata": {},
   "source": [
    "\n",
    "___Tips___: when plotting a image in ``matplotlib`` you need to add information about the physical dimensions of the image. You can calculate the ``bounds``."
   ]
  },
  {
   "cell_type": "code",
   "execution_count": 6,
   "metadata": {},
   "outputs": [],
   "source": [
    "bounds = (elevation.bounds.left, elevation.bounds.right, \\\n",
    "          elevation.bounds.bottom, elevation.bounds.top)"
   ]
  },
  {
   "cell_type": "markdown",
   "metadata": {},
   "source": [
    "We will use ``matplotlib.pyplot`` to show the raster image in the background (tips: use ``imshow()``. The raster image in matplotlib can only import one frame and not three (R, G, B) frames. We will first stack the three images together. "
   ]
  },
  {
   "cell_type": "code",
   "execution_count": 7,
   "metadata": {},
   "outputs": [],
   "source": [
    "red = elevation.read(1)\n",
    "green = elevation.read(2)\n",
    "blue = elevation.read(3)\n",
    "pix = np.dstack((red, green, blue))"
   ]
  },
  {
   "cell_type": "markdown",
   "metadata": {},
   "source": [
    "## Option 2: Plotly\n",
    "\n",
    "You may use plotly. For improved visibility, transform some of the data into log-spaced. You may add these transformed Series into the Pandas, and use them as input to plotly."
   ]
  },
  {
   "cell_type": "code",
   "execution_count": 8,
   "metadata": {},
   "outputs": [],
   "source": [
    "\n",
    "import plotly.express as px\n",
    "import plotly.io as pio\n",
    "pio.renderers.default = 'vscode' # writes as standalone html, \n",
    "# pio.renderers.default = 'iframe' # writes files as standalone html, \n",
    "# pio.renderers.default = 'png' # writes files as standalone html, \n",
    "# try notebook, jupyterlab, png, vscode, iframe"
   ]
  },
  {
   "cell_type": "code",
   "execution_count": 9,
   "metadata": {},
   "outputs": [],
   "source": [
    "sub_filtered_df['log_area'] = np.log(sub_filtered_df['area']).astype(int)\n",
    "sub_filtered_df['norm_log_area'] = 100*(sub_filtered_df['log_area'] - sub_filtered_df['log_area'].min())/(sub_filtered_df['log_area'].max() - sub_filtered_df['log_area'].min())"
   ]
  },
  {
   "cell_type": "code",
   "execution_count": 10,
   "metadata": {},
   "outputs": [
    {
     "data": {
      "application/vnd.plotly.v1+json": {
       "config": {
        "plotlyServerURL": "https://plot.ly"
       },
       "data": [
        {
         "customdata": [
          [
           58,
           2.9,
           0
          ],
          [
           66,
           11.7,
           0
          ],
          [
           56,
           5.15,
           0
          ],
          [
           86,
           2.84,
           0
          ],
          [
           90,
           5.95,
           0
          ],
          [
           55,
           0.75,
           0
          ],
          [
           34,
           1.18,
           0
          ],
          [
           53,
           3.61,
           0
          ],
          [
           53,
           5.757,
           0
          ],
          [
           61,
           11.32,
           0
          ],
          [
           53,
           4.19,
           0
          ],
          [
           104,
           2.72,
           0
          ],
          [
           175,
           824,
           0
          ],
          [
           110,
           22.5,
           0
          ],
          [
           76,
           3.2,
           0
          ],
          [
           49,
           3.2,
           0
          ],
          [
           49,
           3.4,
           0
          ],
          [
           52,
           1,
           0
          ],
          [
           43,
           2,
           0
          ],
          [
           52,
           2.8,
           0
          ],
          [
           47,
           1.2,
           0
          ],
          [
           45,
           2.2,
           0
          ],
          [
           49,
           1.6,
           0
          ],
          [
           54,
           5.3,
           0
          ],
          [
           67,
           2.3,
           0
          ],
          [
           37,
           2,
           0
          ],
          [
           39,
           1.5,
           0
          ],
          [
           32,
           1.1,
           0
          ],
          [
           58,
           1.5,
           0
          ],
          [
           51,
           1.7,
           0
          ],
          [
           50,
           2.6,
           0
          ],
          [
           47,
           1,
           0
          ],
          [
           47,
           1,
           0
          ],
          [
           29,
           1,
           0
          ],
          [
           31,
           1.5,
           1
          ],
          [
           54,
           2.1,
           0
          ],
          [
           49,
           1.1,
           0
          ],
          [
           25,
           1.7,
           0
          ],
          [
           48,
           2.8,
           0
          ],
          [
           47,
           3.8,
           0
          ],
          [
           45,
           2.9,
           0
          ],
          [
           40,
           0.8,
           0
          ],
          [
           49,
           4.2,
           0
          ],
          [
           42,
           2.5,
           0
          ],
          [
           27,
           2.1,
           0
          ],
          [
           59,
           1.4,
           0
          ],
          [
           36,
           1.9,
           0
          ],
          [
           48,
           0.9,
           0
          ],
          [
           33,
           1.5,
           0
          ],
          [
           62,
           2.82,
           0
          ],
          [
           61,
           1,
           0
          ],
          [
           30,
           9.7,
           12
          ],
          [
           26,
           1,
           10
          ],
          [
           15,
           0.08068,
           22
          ],
          [
           17,
           0.307,
           18
          ],
          [
           5,
           0.084,
           22
          ],
          [
           12,
           0.223,
           26
          ],
          [
           4,
           0.106,
           33
          ],
          [
           6,
           0.101,
           22
          ],
          [
           89,
           13.07938,
           13
          ],
          [
           22,
           0.3097,
           21
          ],
          [
           22,
           0.191,
           26
          ],
          [
           65,
           1.8841,
           21
          ],
          [
           8,
           0.0264,
           48
          ],
          [
           17,
           0.2257,
           22
          ],
          [
           15,
           0.13572,
           27
          ],
          [
           23,
           0.3015,
           15
          ],
          [
           26,
           0.36654,
           17
          ],
          [
           19,
           0.5825,
           15
          ],
          [
           13,
           0.39062,
           20
          ],
          [
           8,
           0.05848,
           27
          ],
          [
           19,
           0.37938,
           17
          ],
          [
           29,
           0.3017,
           15
          ],
          [
           16,
           0.2176,
           22
          ],
          [
           25,
           0.62967,
           16
          ],
          [
           69,
           3.2275,
           10
          ],
          [
           15,
           0.2605,
           30
          ],
          [
           90,
           5.36,
           14
          ],
          [
           70,
           2.9,
           13
          ],
          [
           128,
           8.6,
           7
          ],
          [
           60,
           2.1,
           12
          ],
          [
           67,
           3.2,
           13
          ],
          [
           208,
           11.1,
           5
          ],
          [
           148,
           71.3,
           6
          ],
          [
           97,
           2.76,
           13
          ],
          [
           85,
           39.96,
           3
          ],
          [
           74,
           28.59,
           3
          ],
          [
           44,
           1.59,
           20
          ],
          [
           70,
           1,
           16
          ],
          [
           23,
           3.078,
           17
          ],
          [
           28,
           2.8,
           20
          ],
          [
           46,
           1.69,
           20
          ],
          [
           44,
           1.09,
           18
          ],
          [
           49,
           0.6,
           23
          ],
          [
           51,
           2.39,
           16
          ],
          [
           50,
           2.85,
           12
          ],
          [
           16,
           0.5368,
           24
          ],
          [
           15,
           1.24651,
           20
          ],
          [
           58,
           6.078,
           25
          ],
          [
           29,
           1.55417,
           10
          ],
          [
           41,
           2.96629,
           21
          ],
          [
           65,
           10.6,
           9
          ],
          [
           57,
           4,
           10
          ],
          [
           85,
           2.6,
           9
          ],
          [
           68,
           3.28,
           9
          ],
          [
           32,
           2.1,
           13
          ],
          [
           47,
           2.61,
           20
          ],
          [
           65,
           6.737,
           6
          ],
          [
           27,
           0.37,
           19
          ],
          [
           76,
           4.6,
           14
          ]
         ],
         "geo": "geo",
         "hovertemplate": "<b>%{hovertext}</b><br><br>norm_log_area=%{marker.size}<br>latitude=%{lat}<br>longitude=%{lon}<br>mean_thickness=%{customdata[0]}<br>area=%{marker.color}<br>mean_slope=%{customdata[2]}<extra></extra>",
         "hovertext": [
          "Easton Glacier",
          "Lemon Creek Glacier",
          "Praviy Aktru",
          "Maliy Aktru",
          "Leviy Aktru",
          "Vodopadniy",
          "Batysh Sook Glacier",
          "Sary-Tor Glacier",
          "Golubin Glacier",
          "Davidova Glacier",
          "Karabatkak Glacier",
          "Tuyuksu (central)",
          "Fedchenko Glacier",
          "Abramov Glacier",
          "31",
          "Kavrayskogo",
          "Krasovskogo",
          "214",
          "252",
          "Kaskabulakskii",
          "259",
          "Ajusaiskii",
          "183",
          "Khejerdala",
          "Korjunskii",
          "Mgg",
          "Ekspeditsiy",
          "Rodina",
          "Kartaygan",
          "Ashar",
          "Maliy Useksiy",
          "Denisov",
          "305",
          "59",
          "Karabulaksiy",
          "Juytas",
          "261",
          "Keregetas",
          "Bolshoy Koksaysk",
          "Kazanskii",
          "82",
          "93",
          "Panfilova",
          "Khorgosskiy",
          "Tishkan",
          "Majak Vostochniy",
          "125",
          "Majak Zapadniy",
          "Sagrir",
          "Shumskogo",
          "Muravlev",
          "Dokriani Glacier",
          "Sperry Glacier",
          "Pizolgletscher",
          "Schneeferner",
          "Südlicher Schneeferner",
          "Höllentalferner",
          "Blaueis",
          "Watzmanngletscher",
          "Findelengletscher",
          "Glaciar Charquini Sur",
          "Glaciar La Conejeras",
          "Glaciar Zongo",
          "Blauschnee",
          "Vadret dal Corvatsch",
          "Gurschenfirn",
          "Vadret dal Murtèl",
          "Muttgletscher",
          "Glacier de Plan Névé",
          "Sardonagletscher",
          "Schwarzwasserfirn",
          "Glatschiu dil Segnas",
          "Glacier du Sex Rouge",
          "Sankt Annafirn",
          "Glacier de Tortin",
          "Glacier de Tsanfleuron",
          "Glacier de Tsarmine",
          "Storbreen",
          "Hellstugubreen",
          "Vestre Memurubreen",
          "Gråsubreen",
          "Langfjordjøkelen",
          "Rundvassbreen",
          "Hardangerjøkulen",
          "Marukh",
          "Elfenbeinbreen",
          "Sveigbreen",
          "Urumqi Glacier No. 1",
          "West Washmawapta Glacier",
          "Muz Taw",
          "Sigonghe 4",
          "Urumqi Glacier No. 1",
          "Urumqi Glacier No. 1 (east branch)",
          "Urumqi Glacier No. 1 (west branch)",
          "Sary-Tor Glacier",
          "Aqqutikitsoq",
          "Shiyi",
          "Haxilegen 51",
          "Heigou 8",
          "Shenqi Peak",
          "Qiyi",
          "Ålfotbreen",
          "Ålfotbreen",
          "Hansebreen",
          "Ålfotbreen (south)",
          "Blekumbreen",
          "Tuyuksu (central)",
          "Aldegondabreen",
          "Ariebreen",
          "Austre Lovenbreen"
         ],
         "lat": [
          48.75,
          58.38,
          50.06134,
          50.04967,
          50.08008,
          50.0503,
          41.78681,
          41.825132,
          42.45448,
          41.8273,
          42.14031,
          43.05,
          38.767,
          39.6097,
          62.58879,
          45.23645,
          45.23513,
          44.92845,
          44.883,
          44.883,
          44.917,
          44.85772,
          44.83929,
          44.97,
          44.89076,
          44.97,
          44.95518,
          44.95315,
          44.99511,
          45,
          44.5841,
          44.5858,
          44.7016,
          44.722,
          44.7049,
          44.685,
          44.679,
          44.6667,
          44.7404,
          44.77608,
          44.77695,
          44.582,
          44.5821,
          44.5846,
          44.6142,
          44.5723,
          44.5804,
          44.56647,
          44.59,
          45.08,
          45.0958,
          30.855,
          48.62495,
          46.9595,
          47.4139,
          47.4,
          47.4231,
          47.571,
          47.5543,
          45.9936,
          -16.3023,
          4.80506,
          -16.266,
          47.25038,
          46.418641,
          46.6049,
          46.408281,
          46.550849,
          46.1666,
          46.916205,
          46.5967,
          46.910684,
          46.327,
          46.600208,
          46.08483,
          46.3202,
          46.048207,
          61.573395,
          61.555861,
          61.541544,
          61.656513,
          70.128,
          67.278,
          60.546,
          43.361887,
          78.1851,
          78.1071,
          43.11124,
          51.177,
          47.065194,
          43.8342,
          43.11124,
          43.11124,
          43.118294,
          41.825132,
          67.094,
          38.214,
          43.731,
          43.784,
          41.78,
          39.237,
          61.75,
          61.75,
          61.75,
          61.73,
          78.24548,
          43.043653,
          77.9714,
          77.0272,
          78.871
         ],
         "legendgroup": "",
         "lon": [
          -121.83,
          -134.36,
          87.69741,
          87.74552,
          87.69025,
          87.7886,
          77.74927,
          78.176022,
          74.49766,
          78.20493,
          78.2728,
          77.08,
          72.283,
          71.56986,
          140.86536,
          80.78166,
          80.80835,
          79.13669,
          79.285,
          79.317,
          79.317,
          79.45203,
          79.46103,
          79.42,
          79.48539,
          79.53,
          79.54601,
          79.56239,
          79.75732,
          79.82,
          79.4753,
          79.498,
          79.5927,
          79.648,
          79.7181,
          79.7254,
          79.7375,
          79.7391,
          79.961,
          79.93852,
          79.82588,
          80.29,
          80.2741,
          80.2417,
          80.1426,
          80.172,
          80.1887,
          80.12033,
          80.1179,
          80.23,
          80.23832,
          78.818,
          -113.75707,
          9.3891,
          10.972,
          10.9736,
          10.9912,
          12.8666,
          12.9282,
          7.87051,
          -68.1064,
          -75.3715,
          -68.148,
          9.34301,
          9.825164,
          8.61212,
          9.825684,
          8.417236,
          6.93715,
          9.255655,
          8.61109,
          9.249232,
          7.21308,
          8.602228,
          7.309231,
          7.22536,
          7.517633,
          8.131989,
          8.441361,
          8.454024,
          8.599633,
          21.735,
          16.037,
          7.432,
          41.419771,
          18.2064,
          17.6978,
          86.810015,
          -116.33,
          85.563635,
          88.3261,
          86.810015,
          86.810015,
          86.80358,
          78.176022,
          -53.213,
          99.881,
          84.391,
          88.356,
          79.894,
          97.755,
          5.67,
          5.64,
          5.67,
          5.66,
          16.06438,
          77.080587,
          14.0691,
          15.4854,
          12.1614
         ],
         "marker": {
          "color": [
           2.9,
           11.7,
           5.15,
           2.84,
           5.95,
           0.75,
           1.18,
           3.61,
           5.757,
           11.32,
           4.19,
           2.72,
           824,
           22.5,
           3.2,
           3.2,
           3.4,
           1,
           2,
           2.8,
           1.2,
           2.2,
           1.6,
           5.3,
           2.3,
           2,
           1.5,
           1.1,
           1.5,
           1.7,
           2.6,
           1,
           1,
           1,
           1.5,
           2.1,
           1.1,
           1.7,
           2.8,
           3.8,
           2.9,
           0.8,
           4.2,
           2.5,
           2.1,
           1.4,
           1.9,
           0.9,
           1.5,
           2.82,
           1,
           9.7,
           1,
           0.08068,
           0.307,
           0.084,
           0.223,
           0.106,
           0.101,
           13.07938,
           0.3097,
           0.191,
           1.8841,
           0.0264,
           0.2257,
           0.13572,
           0.3015,
           0.36654,
           0.5825,
           0.39062,
           0.05848,
           0.37938,
           0.3017,
           0.2176,
           0.62967,
           3.2275,
           0.2605,
           5.36,
           2.9,
           8.6,
           2.1,
           3.2,
           11.1,
           71.3,
           2.76,
           39.96,
           28.59,
           1.59,
           1,
           3.078,
           2.8,
           1.69,
           1.09,
           0.6,
           2.39,
           2.85,
           0.5368,
           1.24651,
           6.078,
           1.55417,
           2.96629,
           10.6,
           4,
           2.6,
           3.28,
           2.1,
           2.61,
           6.737,
           0.37,
           4.6
          ],
          "coloraxis": "coloraxis",
          "size": [
           44.44444444444444,
           55.55555555555556,
           44.44444444444444,
           44.44444444444444,
           44.44444444444444,
           33.333333333333336,
           33.333333333333336,
           44.44444444444444,
           44.44444444444444,
           55.55555555555556,
           44.44444444444444,
           44.44444444444444,
           100,
           66.66666666666667,
           44.44444444444444,
           44.44444444444444,
           44.44444444444444,
           33.333333333333336,
           33.333333333333336,
           44.44444444444444,
           33.333333333333336,
           33.333333333333336,
           33.333333333333336,
           44.44444444444444,
           33.333333333333336,
           33.333333333333336,
           33.333333333333336,
           33.333333333333336,
           33.333333333333336,
           33.333333333333336,
           33.333333333333336,
           33.333333333333336,
           33.333333333333336,
           33.333333333333336,
           33.333333333333336,
           33.333333333333336,
           33.333333333333336,
           33.333333333333336,
           44.44444444444444,
           44.44444444444444,
           44.44444444444444,
           33.333333333333336,
           44.44444444444444,
           33.333333333333336,
           33.333333333333336,
           33.333333333333336,
           33.333333333333336,
           33.333333333333336,
           33.333333333333336,
           44.44444444444444,
           33.333333333333336,
           55.55555555555556,
           33.333333333333336,
           11.11111111111111,
           22.22222222222222,
           11.11111111111111,
           22.22222222222222,
           11.11111111111111,
           11.11111111111111,
           55.55555555555556,
           22.22222222222222,
           22.22222222222222,
           33.333333333333336,
           0,
           22.22222222222222,
           22.22222222222222,
           22.22222222222222,
           22.22222222222222,
           33.333333333333336,
           33.333333333333336,
           11.11111111111111,
           33.333333333333336,
           22.22222222222222,
           22.22222222222222,
           33.333333333333336,
           44.44444444444444,
           22.22222222222222,
           44.44444444444444,
           44.44444444444444,
           55.55555555555556,
           33.333333333333336,
           44.44444444444444,
           55.55555555555556,
           77.77777777777777,
           44.44444444444444,
           66.66666666666667,
           66.66666666666667,
           33.333333333333336,
           33.333333333333336,
           44.44444444444444,
           44.44444444444444,
           33.333333333333336,
           33.333333333333336,
           33.333333333333336,
           33.333333333333336,
           44.44444444444444,
           33.333333333333336,
           33.333333333333336,
           44.44444444444444,
           33.333333333333336,
           44.44444444444444,
           55.55555555555556,
           44.44444444444444,
           33.333333333333336,
           44.44444444444444,
           33.333333333333336,
           33.333333333333336,
           44.44444444444444,
           33.333333333333336,
           44.44444444444444
          ],
          "sizemode": "area",
          "sizeref": 0.25,
          "symbol": "circle"
         },
         "mode": "markers",
         "name": "",
         "showlegend": false,
         "type": "scattergeo"
        }
       ],
       "layout": {
        "coloraxis": {
         "cmax": 20,
         "cmin": 0,
         "colorbar": {
          "title": {
           "text": "Glacial Area"
          }
         },
         "colorscale": [
          [
           0,
           "#000004"
          ],
          [
           0.1111111111111111,
           "#1b0c41"
          ],
          [
           0.2222222222222222,
           "#4a0c6b"
          ],
          [
           0.3333333333333333,
           "#781c6d"
          ],
          [
           0.4444444444444444,
           "#a52c60"
          ],
          [
           0.5555555555555556,
           "#cf4446"
          ],
          [
           0.6666666666666666,
           "#ed6925"
          ],
          [
           0.7777777777777778,
           "#fb9b06"
          ],
          [
           0.8888888888888888,
           "#f7d13d"
          ],
          [
           1,
           "#fcffa4"
          ]
         ]
        },
        "geo": {
         "center": {
          "lat": -27.142244101564113,
          "lon": -13.965876492204032
         },
         "domain": {
          "x": [
           0,
           1
          ],
          "y": [
           0,
           1
          ]
         },
         "projection": {
          "rotation": {
           "lon": -13.965876492204032
          },
          "scale": 1.0673253380399597
         }
        },
        "height": 800,
        "legend": {
         "itemsizing": "constant",
         "tracegroupgap": 0
        },
        "margin": {
         "t": 60
        },
        "template": {
         "data": {
          "bar": [
           {
            "error_x": {
             "color": "#2a3f5f"
            },
            "error_y": {
             "color": "#2a3f5f"
            },
            "marker": {
             "line": {
              "color": "#E5ECF6",
              "width": 0.5
             },
             "pattern": {
              "fillmode": "overlay",
              "size": 10,
              "solidity": 0.2
             }
            },
            "type": "bar"
           }
          ],
          "barpolar": [
           {
            "marker": {
             "line": {
              "color": "#E5ECF6",
              "width": 0.5
             },
             "pattern": {
              "fillmode": "overlay",
              "size": 10,
              "solidity": 0.2
             }
            },
            "type": "barpolar"
           }
          ],
          "carpet": [
           {
            "aaxis": {
             "endlinecolor": "#2a3f5f",
             "gridcolor": "white",
             "linecolor": "white",
             "minorgridcolor": "white",
             "startlinecolor": "#2a3f5f"
            },
            "baxis": {
             "endlinecolor": "#2a3f5f",
             "gridcolor": "white",
             "linecolor": "white",
             "minorgridcolor": "white",
             "startlinecolor": "#2a3f5f"
            },
            "type": "carpet"
           }
          ],
          "choropleth": [
           {
            "colorbar": {
             "outlinewidth": 0,
             "ticks": ""
            },
            "type": "choropleth"
           }
          ],
          "contour": [
           {
            "colorbar": {
             "outlinewidth": 0,
             "ticks": ""
            },
            "colorscale": [
             [
              0,
              "#0d0887"
             ],
             [
              0.1111111111111111,
              "#46039f"
             ],
             [
              0.2222222222222222,
              "#7201a8"
             ],
             [
              0.3333333333333333,
              "#9c179e"
             ],
             [
              0.4444444444444444,
              "#bd3786"
             ],
             [
              0.5555555555555556,
              "#d8576b"
             ],
             [
              0.6666666666666666,
              "#ed7953"
             ],
             [
              0.7777777777777778,
              "#fb9f3a"
             ],
             [
              0.8888888888888888,
              "#fdca26"
             ],
             [
              1,
              "#f0f921"
             ]
            ],
            "type": "contour"
           }
          ],
          "contourcarpet": [
           {
            "colorbar": {
             "outlinewidth": 0,
             "ticks": ""
            },
            "type": "contourcarpet"
           }
          ],
          "heatmap": [
           {
            "colorbar": {
             "outlinewidth": 0,
             "ticks": ""
            },
            "colorscale": [
             [
              0,
              "#0d0887"
             ],
             [
              0.1111111111111111,
              "#46039f"
             ],
             [
              0.2222222222222222,
              "#7201a8"
             ],
             [
              0.3333333333333333,
              "#9c179e"
             ],
             [
              0.4444444444444444,
              "#bd3786"
             ],
             [
              0.5555555555555556,
              "#d8576b"
             ],
             [
              0.6666666666666666,
              "#ed7953"
             ],
             [
              0.7777777777777778,
              "#fb9f3a"
             ],
             [
              0.8888888888888888,
              "#fdca26"
             ],
             [
              1,
              "#f0f921"
             ]
            ],
            "type": "heatmap"
           }
          ],
          "heatmapgl": [
           {
            "colorbar": {
             "outlinewidth": 0,
             "ticks": ""
            },
            "colorscale": [
             [
              0,
              "#0d0887"
             ],
             [
              0.1111111111111111,
              "#46039f"
             ],
             [
              0.2222222222222222,
              "#7201a8"
             ],
             [
              0.3333333333333333,
              "#9c179e"
             ],
             [
              0.4444444444444444,
              "#bd3786"
             ],
             [
              0.5555555555555556,
              "#d8576b"
             ],
             [
              0.6666666666666666,
              "#ed7953"
             ],
             [
              0.7777777777777778,
              "#fb9f3a"
             ],
             [
              0.8888888888888888,
              "#fdca26"
             ],
             [
              1,
              "#f0f921"
             ]
            ],
            "type": "heatmapgl"
           }
          ],
          "histogram": [
           {
            "marker": {
             "pattern": {
              "fillmode": "overlay",
              "size": 10,
              "solidity": 0.2
             }
            },
            "type": "histogram"
           }
          ],
          "histogram2d": [
           {
            "colorbar": {
             "outlinewidth": 0,
             "ticks": ""
            },
            "colorscale": [
             [
              0,
              "#0d0887"
             ],
             [
              0.1111111111111111,
              "#46039f"
             ],
             [
              0.2222222222222222,
              "#7201a8"
             ],
             [
              0.3333333333333333,
              "#9c179e"
             ],
             [
              0.4444444444444444,
              "#bd3786"
             ],
             [
              0.5555555555555556,
              "#d8576b"
             ],
             [
              0.6666666666666666,
              "#ed7953"
             ],
             [
              0.7777777777777778,
              "#fb9f3a"
             ],
             [
              0.8888888888888888,
              "#fdca26"
             ],
             [
              1,
              "#f0f921"
             ]
            ],
            "type": "histogram2d"
           }
          ],
          "histogram2dcontour": [
           {
            "colorbar": {
             "outlinewidth": 0,
             "ticks": ""
            },
            "colorscale": [
             [
              0,
              "#0d0887"
             ],
             [
              0.1111111111111111,
              "#46039f"
             ],
             [
              0.2222222222222222,
              "#7201a8"
             ],
             [
              0.3333333333333333,
              "#9c179e"
             ],
             [
              0.4444444444444444,
              "#bd3786"
             ],
             [
              0.5555555555555556,
              "#d8576b"
             ],
             [
              0.6666666666666666,
              "#ed7953"
             ],
             [
              0.7777777777777778,
              "#fb9f3a"
             ],
             [
              0.8888888888888888,
              "#fdca26"
             ],
             [
              1,
              "#f0f921"
             ]
            ],
            "type": "histogram2dcontour"
           }
          ],
          "mesh3d": [
           {
            "colorbar": {
             "outlinewidth": 0,
             "ticks": ""
            },
            "type": "mesh3d"
           }
          ],
          "parcoords": [
           {
            "line": {
             "colorbar": {
              "outlinewidth": 0,
              "ticks": ""
             }
            },
            "type": "parcoords"
           }
          ],
          "pie": [
           {
            "automargin": true,
            "type": "pie"
           }
          ],
          "scatter": [
           {
            "fillpattern": {
             "fillmode": "overlay",
             "size": 10,
             "solidity": 0.2
            },
            "type": "scatter"
           }
          ],
          "scatter3d": [
           {
            "line": {
             "colorbar": {
              "outlinewidth": 0,
              "ticks": ""
             }
            },
            "marker": {
             "colorbar": {
              "outlinewidth": 0,
              "ticks": ""
             }
            },
            "type": "scatter3d"
           }
          ],
          "scattercarpet": [
           {
            "marker": {
             "colorbar": {
              "outlinewidth": 0,
              "ticks": ""
             }
            },
            "type": "scattercarpet"
           }
          ],
          "scattergeo": [
           {
            "marker": {
             "colorbar": {
              "outlinewidth": 0,
              "ticks": ""
             }
            },
            "type": "scattergeo"
           }
          ],
          "scattergl": [
           {
            "marker": {
             "colorbar": {
              "outlinewidth": 0,
              "ticks": ""
             }
            },
            "type": "scattergl"
           }
          ],
          "scattermapbox": [
           {
            "marker": {
             "colorbar": {
              "outlinewidth": 0,
              "ticks": ""
             }
            },
            "type": "scattermapbox"
           }
          ],
          "scatterpolar": [
           {
            "marker": {
             "colorbar": {
              "outlinewidth": 0,
              "ticks": ""
             }
            },
            "type": "scatterpolar"
           }
          ],
          "scatterpolargl": [
           {
            "marker": {
             "colorbar": {
              "outlinewidth": 0,
              "ticks": ""
             }
            },
            "type": "scatterpolargl"
           }
          ],
          "scatterternary": [
           {
            "marker": {
             "colorbar": {
              "outlinewidth": 0,
              "ticks": ""
             }
            },
            "type": "scatterternary"
           }
          ],
          "surface": [
           {
            "colorbar": {
             "outlinewidth": 0,
             "ticks": ""
            },
            "colorscale": [
             [
              0,
              "#0d0887"
             ],
             [
              0.1111111111111111,
              "#46039f"
             ],
             [
              0.2222222222222222,
              "#7201a8"
             ],
             [
              0.3333333333333333,
              "#9c179e"
             ],
             [
              0.4444444444444444,
              "#bd3786"
             ],
             [
              0.5555555555555556,
              "#d8576b"
             ],
             [
              0.6666666666666666,
              "#ed7953"
             ],
             [
              0.7777777777777778,
              "#fb9f3a"
             ],
             [
              0.8888888888888888,
              "#fdca26"
             ],
             [
              1,
              "#f0f921"
             ]
            ],
            "type": "surface"
           }
          ],
          "table": [
           {
            "cells": {
             "fill": {
              "color": "#EBF0F8"
             },
             "line": {
              "color": "white"
             }
            },
            "header": {
             "fill": {
              "color": "#C8D4E3"
             },
             "line": {
              "color": "white"
             }
            },
            "type": "table"
           }
          ]
         },
         "layout": {
          "annotationdefaults": {
           "arrowcolor": "#2a3f5f",
           "arrowhead": 0,
           "arrowwidth": 1
          },
          "autotypenumbers": "strict",
          "coloraxis": {
           "colorbar": {
            "outlinewidth": 0,
            "ticks": ""
           }
          },
          "colorscale": {
           "diverging": [
            [
             0,
             "#8e0152"
            ],
            [
             0.1,
             "#c51b7d"
            ],
            [
             0.2,
             "#de77ae"
            ],
            [
             0.3,
             "#f1b6da"
            ],
            [
             0.4,
             "#fde0ef"
            ],
            [
             0.5,
             "#f7f7f7"
            ],
            [
             0.6,
             "#e6f5d0"
            ],
            [
             0.7,
             "#b8e186"
            ],
            [
             0.8,
             "#7fbc41"
            ],
            [
             0.9,
             "#4d9221"
            ],
            [
             1,
             "#276419"
            ]
           ],
           "sequential": [
            [
             0,
             "#0d0887"
            ],
            [
             0.1111111111111111,
             "#46039f"
            ],
            [
             0.2222222222222222,
             "#7201a8"
            ],
            [
             0.3333333333333333,
             "#9c179e"
            ],
            [
             0.4444444444444444,
             "#bd3786"
            ],
            [
             0.5555555555555556,
             "#d8576b"
            ],
            [
             0.6666666666666666,
             "#ed7953"
            ],
            [
             0.7777777777777778,
             "#fb9f3a"
            ],
            [
             0.8888888888888888,
             "#fdca26"
            ],
            [
             1,
             "#f0f921"
            ]
           ],
           "sequentialminus": [
            [
             0,
             "#0d0887"
            ],
            [
             0.1111111111111111,
             "#46039f"
            ],
            [
             0.2222222222222222,
             "#7201a8"
            ],
            [
             0.3333333333333333,
             "#9c179e"
            ],
            [
             0.4444444444444444,
             "#bd3786"
            ],
            [
             0.5555555555555556,
             "#d8576b"
            ],
            [
             0.6666666666666666,
             "#ed7953"
            ],
            [
             0.7777777777777778,
             "#fb9f3a"
            ],
            [
             0.8888888888888888,
             "#fdca26"
            ],
            [
             1,
             "#f0f921"
            ]
           ]
          },
          "colorway": [
           "#636efa",
           "#EF553B",
           "#00cc96",
           "#ab63fa",
           "#FFA15A",
           "#19d3f3",
           "#FF6692",
           "#B6E880",
           "#FF97FF",
           "#FECB52"
          ],
          "font": {
           "color": "#2a3f5f"
          },
          "geo": {
           "bgcolor": "white",
           "lakecolor": "white",
           "landcolor": "#E5ECF6",
           "showlakes": true,
           "showland": true,
           "subunitcolor": "white"
          },
          "hoverlabel": {
           "align": "left"
          },
          "hovermode": "closest",
          "mapbox": {
           "style": "light"
          },
          "paper_bgcolor": "white",
          "plot_bgcolor": "#E5ECF6",
          "polar": {
           "angularaxis": {
            "gridcolor": "white",
            "linecolor": "white",
            "ticks": ""
           },
           "bgcolor": "#E5ECF6",
           "radialaxis": {
            "gridcolor": "white",
            "linecolor": "white",
            "ticks": ""
           }
          },
          "scene": {
           "xaxis": {
            "backgroundcolor": "#E5ECF6",
            "gridcolor": "white",
            "gridwidth": 2,
            "linecolor": "white",
            "showbackground": true,
            "ticks": "",
            "zerolinecolor": "white"
           },
           "yaxis": {
            "backgroundcolor": "#E5ECF6",
            "gridcolor": "white",
            "gridwidth": 2,
            "linecolor": "white",
            "showbackground": true,
            "ticks": "",
            "zerolinecolor": "white"
           },
           "zaxis": {
            "backgroundcolor": "#E5ECF6",
            "gridcolor": "white",
            "gridwidth": 2,
            "linecolor": "white",
            "showbackground": true,
            "ticks": "",
            "zerolinecolor": "white"
           }
          },
          "shapedefaults": {
           "line": {
            "color": "#2a3f5f"
           }
          },
          "ternary": {
           "aaxis": {
            "gridcolor": "white",
            "linecolor": "white",
            "ticks": ""
           },
           "baxis": {
            "gridcolor": "white",
            "linecolor": "white",
            "ticks": ""
           },
           "bgcolor": "#E5ECF6",
           "caxis": {
            "gridcolor": "white",
            "linecolor": "white",
            "ticks": ""
           }
          },
          "title": {
           "x": 0.05
          },
          "xaxis": {
           "automargin": true,
           "gridcolor": "white",
           "linecolor": "white",
           "ticks": "",
           "title": {
            "standoff": 15
           },
           "zerolinecolor": "white",
           "zerolinewidth": 2
          },
          "yaxis": {
           "automargin": true,
           "gridcolor": "white",
           "linecolor": "white",
           "ticks": "",
           "title": {
            "standoff": 15
           },
           "zerolinecolor": "white",
           "zerolinewidth": 2
          }
         }
        },
        "width": 800
       }
      },
      "image/png": "[encoded data removed]"
     },
     "metadata": {},
     "output_type": "display_data"
    }
   ],
   "source": [
    "# solution\n",
    "# range of values for colorbar\n",
    "vals = [0,5,10,15,20,25]\n",
    "fig = px.scatter_geo(sub_filtered_df,\n",
    "                     lat='latitude',lon='longitude', \n",
    "                     range_color=(0,20),\n",
    "                     height=800, width=800,\n",
    "                     size='norm_log_area',\n",
    "                     color='area',\n",
    "                     color_continuous_scale='Inferno',\n",
    "                     hover_name=\"name\",\n",
    "                     hover_data=['mean_thickness','area','mean_slope']);\n",
    "\n",
    "fig.update_layout(coloraxis_colorbar=dict(\n",
    "    title=\"Glacial Area\",\n",
    "))\n",
    "fig.show()"
   ]
  },
  {
   "cell_type": "markdown",
   "metadata": {},
   "source": [
    "sub_filtered_df## 3. Correlations between data parameters ( 5 points total)\n",
    "\n",
    "Make plots to vizualise the correlation, or lack of, between all three data. Make at least three plots.\n",
    "\n",
    "### a) Basic correlations using Matplotlib (2 points)\n",
    "\n",
    "Make 3 plots using matplotlib to visualize slope, mean_thickness, and area. Use logscale to see the correlatons.\n",
    "\n",
    "__Tips__: \n",
    "* Use the function ``scatter`` to plot the values of mean thickness, mean slope, area, and latitude. \n",
    "* use one of the dataframe columns as a color using the argument ``c``. You can also vary the ``colormap`` using the argument ``cmap``. Help on colormaps can be found here: https://matplotlib.org/stable/tutorials/colors/colormaps.html. Be mindful of Color-Vision Deficient readers and read *Crameri, F., Shephard, G.E. and Heron, P.J., 2020. The misuse of colour in science communication. Nature communications, 11(1), pp.1-10. https://doi.org/10.1038/s41467-020-19160-7* (find it on the class Gdrive). You can add a third \"data\" by choosing a marker color that scales with an other parameter. For instance, try coloring your marker with the ``LAT`` parameter to look at systematic latitudinal trends from the equator to the poles.\n",
    "* Do not forget to adjust fontsize, figure size (at least 10,8), grid, labels with  of the features (example: km). ou may also explore the *logarithmic* correlations by mapping the axis from linear to logarithmic scale ``plt.xscale('log')``."
   ]
  },
  {
   "cell_type": "code",
   "execution_count": 11,
   "metadata": {},
   "outputs": [
    {
     "name": "stderr",
     "output_type": "stream",
     "text": [
      "/srv/conda/envs/notebook/lib/python3.8/site-packages/pandas/core/arraylike.py:402: RuntimeWarning:\n",
      "\n",
      "divide by zero encountered in log\n",
      "\n"
     ]
    },
    {
     "data": {
      "text/plain": [
       "Text(0, 0.5, 'log(mean_slope)')"
      ]
     },
     "execution_count": 11,
     "metadata": {},
     "output_type": "execute_result"
    },
    {
     "data": {
      "image/png": "[encoded data removed]",
      "text/plain": [
       "<Figure size 640x480 with 2 Axes>"
      ]
     },
     "metadata": {},
     "output_type": "display_data"
    }
   ],
   "source": [
    "# Figure 1: Mean slope vs mean thickness\n",
    "# solution\n",
    "sub_filtered_df['log_mean_thickness'] = np.log(sub_filtered_df['mean_thickness'])\n",
    "sub_filtered_df['log_area'] = np.log(sub_filtered_df['area'])\n",
    "sub_filtered_df['log_mean_slope'] = np.log(sub_filtered_df['mean_slope'])\n",
    "plt.scatter(sub_filtered_df['log_mean_thickness'],\n",
    "            sub_filtered_df['log_mean_slope'], \n",
    "            c=np.abs(sub_filtered_df['latitude']),\n",
    "            vmin=10,\n",
    "            vmax=70,\n",
    "            cmap='viridis_r')\n",
    "plt.colorbar(label='absolute latitude')\n",
    "plt.xlabel('log(mean_thickness)')\n",
    "plt.ylabel('log(mean_slope)')"
   ]
  },
  {
   "cell_type": "code",
   "execution_count": 12,
   "metadata": {},
   "outputs": [
    {
     "data": {
      "text/plain": [
       "Text(0, 0.5, 'log(mean_area)')"
      ]
     },
     "execution_count": 12,
     "metadata": {},
     "output_type": "execute_result"
    },
    {
     "data": {
      "image/png": "[encoded data removed]",
      "text/plain": [
       "<Figure size 640x480 with 2 Axes>"
      ]
     },
     "metadata": {},
     "output_type": "display_data"
    }
   ],
   "source": [
    "# Figure 2: area vs mean thickness\n",
    "# solution\n",
    "plt.scatter(np.log(sub_filtered_df['mean_thickness']),\n",
    "            np.log(sub_filtered_df['area']), \n",
    "            c=np.abs(sub_filtered_df['latitude']),\n",
    "            vmin=10,\n",
    "            vmax=70,\n",
    "            cmap='viridis_r')\n",
    "plt.colorbar(label='absolute latitude')\n",
    "plt.xlabel('log(mean_thickness)')\n",
    "plt.ylabel('log(mean_area)')"
   ]
  },
  {
   "cell_type": "markdown",
   "metadata": {},
   "source": [
    "### b) 3D Scatter plot using Plotly (1 point)\n",
    "\n",
    "Use the plotly ``scatter_3d`` plot. Make sure to change the pandas series for log scales."
   ]
  },
  {
   "cell_type": "code",
   "execution_count": 13,
   "metadata": {},
   "outputs": [
    {
     "data": {
      "application/vnd.plotly.v1+json": {
       "config": {
        "plotlyServerURL": "https://plot.ly"
       },
       "data": [
        {
         "hovertemplate": "log_mean_thickness=%{x}<br>log_area=%{y}<br>latitude=%{marker.color}<extra></extra>",
         "legendgroup": "",
         "marker": {
          "color": [
           48.75,
           58.38,
           50.06134,
           50.04967,
           50.08008,
           50.0503,
           41.78681,
           41.825132,
           42.45448,
           41.8273,
           42.14031,
           43.05,
           38.767,
           39.6097,
           62.58879,
           45.23645,
           45.23513,
           44.92845,
           44.883,
           44.883,
           44.917,
           44.85772,
           44.83929,
           44.97,
           44.89076,
           44.97,
           44.95518,
           44.95315,
           44.99511,
           45,
           44.5841,
           44.5858,
           44.7016,
           44.722,
           44.7049,
           44.685,
           44.679,
           44.6667,
           44.7404,
           44.77608,
           44.77695,
           44.582,
           44.5821,
           44.5846,
           44.6142,
           44.5723,
           44.5804,
           44.56647,
           44.59,
           45.08,
           45.0958,
           30.855,
           48.62495,
           46.9595,
           47.4139,
           47.4,
           47.4231,
           47.571,
           47.5543,
           45.9936,
           -16.3023,
           4.80506,
           -16.266,
           47.25038,
           46.418641,
           46.6049,
           46.408281,
           46.550849,
           46.1666,
           46.916205,
           46.5967,
           46.910684,
           46.327,
           46.600208,
           46.08483,
           46.3202,
           46.048207,
           61.573395,
           61.555861,
           61.541544,
           61.656513,
           70.128,
           67.278,
           60.546,
           43.361887,
           78.1851,
           78.1071,
           43.11124,
           51.177,
           47.065194,
           43.8342,
           43.11124,
           43.11124,
           43.118294,
           41.825132,
           67.094,
           38.214,
           43.731,
           43.784,
           41.78,
           39.237,
           61.75,
           61.75,
           61.75,
           61.73,
           78.24548,
           43.043653,
           77.9714,
           77.0272,
           78.871
          ],
          "coloraxis": "coloraxis",
          "symbol": "circle"
         },
         "mode": "markers",
         "name": "",
         "scene": "scene",
         "showlegend": false,
         "type": "scatter3d",
         "x": [
          4.060443010546419,
          4.189654742026425,
          4.02535169073515,
          4.454347296253507,
          4.499809670330265,
          4.007333185232471,
          3.5263605246161616,
          3.970291913552122,
          3.970291913552122,
          4.110873864173311,
          3.970291913552122,
          4.6443908991413725,
          5.1647859739235145,
          4.700480365792417,
          4.330733340286331,
          3.8918202981106265,
          3.8918202981106265,
          3.9512437185814275,
          3.7612001156935624,
          3.9512437185814275,
          3.8501476017100584,
          3.8066624897703196,
          3.8918202981106265,
          3.9889840465642745,
          4.204692619390966,
          3.6109179126442243,
          3.6635616461296463,
          3.4657359027997265,
          4.060443010546419,
          3.9318256327243257,
          3.912023005428146,
          3.8501476017100584,
          3.8501476017100584,
          3.367295829986474,
          3.4339872044851463,
          3.9889840465642745,
          3.8918202981106265,
          3.2188758248682006,
          3.871201010907891,
          3.8501476017100584,
          3.8066624897703196,
          3.6888794541139363,
          3.8918202981106265,
          3.7376696182833684,
          3.295836866004329,
          4.07753744390572,
          3.58351893845611,
          3.871201010907891,
          3.4965075614664802,
          4.127134385045092,
          4.110873864173311,
          3.4011973816621555,
          3.258096538021482,
          2.70805020110221,
          2.833213344056216,
          1.6094379124341003,
          2.4849066497880004,
          1.3862943611198906,
          1.791759469228055,
          4.48863636973214,
          3.091042453358316,
          3.091042453358316,
          4.174387269895637,
          2.0794415416798357,
          2.833213344056216,
          2.70805020110221,
          3.1354942159291497,
          3.258096538021482,
          2.9444389791664403,
          2.5649493574615367,
          2.0794415416798357,
          2.9444389791664403,
          3.367295829986474,
          2.772588722239781,
          3.2188758248682006,
          4.23410650459726,
          2.70805020110221,
          4.499809670330265,
          4.248495242049359,
          4.852030263919617,
          4.0943445622221,
          4.204692619390966,
          5.337538079701318,
          4.997212273764115,
          4.574710978503383,
          4.442651256490317,
          4.30406509320417,
          3.784189633918261,
          4.248495242049359,
          3.1354942159291497,
          3.332204510175204,
          3.828641396489095,
          3.784189633918261,
          3.8918202981106265,
          3.9318256327243257,
          3.912023005428146,
          2.772588722239781,
          2.70805020110221,
          4.060443010546419,
          3.367295829986474,
          3.713572066704308,
          4.174387269895637,
          4.04305126783455,
          4.442651256490317,
          4.219507705176107,
          3.4657359027997265,
          3.8501476017100584,
          4.174387269895637,
          3.295836866004329,
          4.330733340286331
         ],
         "y": [
          1.0647107369924282,
          2.4595888418037104,
          1.6389967146756448,
          1.0438040521731147,
          1.7833912195575383,
          -0.2876820724517809,
          0.16551443847757333,
          1.2837077723447896,
          1.7504165056936725,
          2.4265710727750367,
          1.4327007339340465,
          1.000631880307906,
          6.714170529909472,
          3.1135153092103742,
          1.1631508098056809,
          1.1631508098056809,
          1.2237754316221157,
          0,
          0.6931471805599453,
          1.0296194171811581,
          0.1823215567939546,
          0.7884573603642703,
          0.47000362924573563,
          1.667706820558076,
          0.8329091229351039,
          0.6931471805599453,
          0.4054651081081644,
          0.09531017980432493,
          0.4054651081081644,
          0.5306282510621704,
          0.9555114450274363,
          0,
          0,
          0,
          0.4054651081081644,
          0.7419373447293773,
          0.09531017980432493,
          0.5306282510621704,
          1.0296194171811581,
          1.33500106673234,
          1.0647107369924282,
          -0.2231435513142097,
          1.4350845252893227,
          0.9162907318741551,
          0.7419373447293773,
          0.3364722366212129,
          0.6418538861723947,
          -0.10536051565782628,
          0.4054651081081644,
          1.0367368849500223,
          0,
          2.272125885509337,
          0,
          -2.517264565896126,
          -1.18090753139494,
          -2.4769384801388235,
          -1.5005835075220182,
          -2.24431618487007,
          -2.2926347621408776,
          2.5710369442939873,
          -1.1721511920029801,
          -1.6554818509355071,
          0.6334502533018179,
          -3.6343912688298667,
          -1.488548595158647,
          -1.9971613390661076,
          -1.198985262814897,
          -1.0036476230924065,
          -0.5404260935422814,
          -0.9400200585733918,
          -2.839070463540614,
          -0.9692169376835602,
          -1.1983221328171216,
          -1.5250967640003494,
          -0.4625594063565027,
          1.1717078437386605,
          -1.3451524177887153,
          1.6789639750827108,
          1.0647107369924282,
          2.151762203259462,
          0.7419373447293773,
          1.1631508098056809,
          2.4069451083182885,
          4.26689632742025,
          1.0152306797290584,
          3.687878953780353,
          3.3530570063342204,
          0.4637340162321402,
          0,
          1.1242800354166875,
          1.0296194171811581,
          0.5247285289349821,
          0.08617769624105241,
          -0.5108256237659907,
          0.8712933659434193,
          1.0473189942805592,
          -0.622129693324665,
          0.22034764641219184,
          1.8046756944946014,
          0.4409416410716422,
          1.0873120137169476,
          2.3608540011180215,
          1.3862943611198906,
          0.9555114450274363,
          1.1878434223960523,
          0.7419373447293773,
          0.959350221334602,
          1.9076147219785229,
          -0.9942522733438669,
          1.5260563034950492
         ],
         "z": [
          48.75,
          58.38,
          50.06134,
          50.04967,
          50.08008,
          50.0503,
          41.78681,
          41.825132,
          42.45448,
          41.8273,
          42.14031,
          43.05,
          38.767,
          39.6097,
          62.58879,
          45.23645,
          45.23513,
          44.92845,
          44.883,
          44.883,
          44.917,
          44.85772,
          44.83929,
          44.97,
          44.89076,
          44.97,
          44.95518,
          44.95315,
          44.99511,
          45,
          44.5841,
          44.5858,
          44.7016,
          44.722,
          44.7049,
          44.685,
          44.679,
          44.6667,
          44.7404,
          44.77608,
          44.77695,
          44.582,
          44.5821,
          44.5846,
          44.6142,
          44.5723,
          44.5804,
          44.56647,
          44.59,
          45.08,
          45.0958,
          30.855,
          48.62495,
          46.9595,
          47.4139,
          47.4,
          47.4231,
          47.571,
          47.5543,
          45.9936,
          -16.3023,
          4.80506,
          -16.266,
          47.25038,
          46.418641,
          46.6049,
          46.408281,
          46.550849,
          46.1666,
          46.916205,
          46.5967,
          46.910684,
          46.327,
          46.600208,
          46.08483,
          46.3202,
          46.048207,
          61.573395,
          61.555861,
          61.541544,
          61.656513,
          70.128,
          67.278,
          60.546,
          43.361887,
          78.1851,
          78.1071,
          43.11124,
          51.177,
          47.065194,
          43.8342,
          43.11124,
          43.11124,
          43.118294,
          41.825132,
          67.094,
          38.214,
          43.731,
          43.784,
          41.78,
          39.237,
          61.75,
          61.75,
          61.75,
          61.73,
          78.24548,
          43.043653,
          77.9714,
          77.0272,
          78.871
         ]
        }
       ],
       "layout": {
        "autosize": true,
        "coloraxis": {
         "colorbar": {
          "title": {
           "text": "latitude"
          }
         },
         "colorscale": [
          [
           0,
           "#0d0887"
          ],
          [
           0.1111111111111111,
           "#46039f"
          ],
          [
           0.2222222222222222,
           "#7201a8"
          ],
          [
           0.3333333333333333,
           "#9c179e"
          ],
          [
           0.4444444444444444,
           "#bd3786"
          ],
          [
           0.5555555555555556,
           "#d8576b"
          ],
          [
           0.6666666666666666,
           "#ed7953"
          ],
          [
           0.7777777777777778,
           "#fb9f3a"
          ],
          [
           0.8888888888888888,
           "#fdca26"
          ],
          [
           1,
           "#f0f921"
          ]
         ]
        },
        "legend": {
         "tracegroupgap": 0
        },
        "margin": {
         "t": 60
        },
        "scene": {
         "aspectmode": "auto",
         "aspectratio": {
          "x": 1,
          "y": 1,
          "z": 1
         },
         "camera": {
          "center": {
           "x": 0,
           "y": 0,
           "z": 0
          },
          "eye": {
           "x": 0.00580265497059925,
           "y": 0.005581225288172704,
           "z": 0.005931198831167391
          },
          "projection": {
           "type": "perspective"
          },
          "up": {
           "x": 0,
           "y": 0,
           "z": 1
          }
         },
         "domain": {
          "x": [
           0,
           1
          ],
          "y": [
           0,
           1
          ]
         },
         "xaxis": {
          "title": {
           "text": "log_mean_thickness"
          },
          "type": "linear"
         },
         "yaxis": {
          "title": {
           "text": "log_area"
          },
          "type": "linear"
         },
         "zaxis": {
          "title": {
           "text": "latitude"
          },
          "type": "linear"
         }
        },
        "template": {
         "data": {
          "bar": [
           {
            "error_x": {
             "color": "#2a3f5f"
            },
            "error_y": {
             "color": "#2a3f5f"
            },
            "marker": {
             "line": {
              "color": "#E5ECF6",
              "width": 0.5
             },
             "pattern": {
              "fillmode": "overlay",
              "size": 10,
              "solidity": 0.2
             }
            },
            "type": "bar"
           }
          ],
          "barpolar": [
           {
            "marker": {
             "line": {
              "color": "#E5ECF6",
              "width": 0.5
             },
             "pattern": {
              "fillmode": "overlay",
              "size": 10,
              "solidity": 0.2
             }
            },
            "type": "barpolar"
           }
          ],
          "carpet": [
           {
            "aaxis": {
             "endlinecolor": "#2a3f5f",
             "gridcolor": "white",
             "linecolor": "white",
             "minorgridcolor": "white",
             "startlinecolor": "#2a3f5f"
            },
            "baxis": {
             "endlinecolor": "#2a3f5f",
             "gridcolor": "white",
             "linecolor": "white",
             "minorgridcolor": "white",
             "startlinecolor": "#2a3f5f"
            },
            "type": "carpet"
           }
          ],
          "choropleth": [
           {
            "colorbar": {
             "outlinewidth": 0,
             "ticks": ""
            },
            "type": "choropleth"
           }
          ],
          "contour": [
           {
            "colorbar": {
             "outlinewidth": 0,
             "ticks": ""
            },
            "colorscale": [
             [
              0,
              "#0d0887"
             ],
             [
              0.1111111111111111,
              "#46039f"
             ],
             [
              0.2222222222222222,
              "#7201a8"
             ],
             [
              0.3333333333333333,
              "#9c179e"
             ],
             [
              0.4444444444444444,
              "#bd3786"
             ],
             [
              0.5555555555555556,
              "#d8576b"
             ],
             [
              0.6666666666666666,
              "#ed7953"
             ],
             [
              0.7777777777777778,
              "#fb9f3a"
             ],
             [
              0.8888888888888888,
              "#fdca26"
             ],
             [
              1,
              "#f0f921"
             ]
            ],
            "type": "contour"
           }
          ],
          "contourcarpet": [
           {
            "colorbar": {
             "outlinewidth": 0,
             "ticks": ""
            },
            "type": "contourcarpet"
           }
          ],
          "heatmap": [
           {
            "colorbar": {
             "outlinewidth": 0,
             "ticks": ""
            },
            "colorscale": [
             [
              0,
              "#0d0887"
             ],
             [
              0.1111111111111111,
              "#46039f"
             ],
             [
              0.2222222222222222,
              "#7201a8"
             ],
             [
              0.3333333333333333,
              "#9c179e"
             ],
             [
              0.4444444444444444,
              "#bd3786"
             ],
             [
              0.5555555555555556,
              "#d8576b"
             ],
             [
              0.6666666666666666,
              "#ed7953"
             ],
             [
              0.7777777777777778,
              "#fb9f3a"
             ],
             [
              0.8888888888888888,
              "#fdca26"
             ],
             [
              1,
              "#f0f921"
             ]
            ],
            "type": "heatmap"
           }
          ],
          "heatmapgl": [
           {
            "colorbar": {
             "outlinewidth": 0,
             "ticks": ""
            },
            "colorscale": [
             [
              0,
              "#0d0887"
             ],
             [
              0.1111111111111111,
              "#46039f"
             ],
             [
              0.2222222222222222,
              "#7201a8"
             ],
             [
              0.3333333333333333,
              "#9c179e"
             ],
             [
              0.4444444444444444,
              "#bd3786"
             ],
             [
              0.5555555555555556,
              "#d8576b"
             ],
             [
              0.6666666666666666,
              "#ed7953"
             ],
             [
              0.7777777777777778,
              "#fb9f3a"
             ],
             [
              0.8888888888888888,
              "#fdca26"
             ],
             [
              1,
              "#f0f921"
             ]
            ],
            "type": "heatmapgl"
           }
          ],
          "histogram": [
           {
            "marker": {
             "pattern": {
              "fillmode": "overlay",
              "size": 10,
              "solidity": 0.2
             }
            },
            "type": "histogram"
           }
          ],
          "histogram2d": [
           {
            "colorbar": {
             "outlinewidth": 0,
             "ticks": ""
            },
            "colorscale": [
             [
              0,
              "#0d0887"
             ],
             [
              0.1111111111111111,
              "#46039f"
             ],
             [
              0.2222222222222222,
              "#7201a8"
             ],
             [
              0.3333333333333333,
              "#9c179e"
             ],
             [
              0.4444444444444444,
              "#bd3786"
             ],
             [
              0.5555555555555556,
              "#d8576b"
             ],
             [
              0.6666666666666666,
              "#ed7953"
             ],
             [
              0.7777777777777778,
              "#fb9f3a"
             ],
             [
              0.8888888888888888,
              "#fdca26"
             ],
             [
              1,
              "#f0f921"
             ]
            ],
            "type": "histogram2d"
           }
          ],
          "histogram2dcontour": [
           {
            "colorbar": {
             "outlinewidth": 0,
             "ticks": ""
            },
            "colorscale": [
             [
              0,
              "#0d0887"
             ],
             [
              0.1111111111111111,
              "#46039f"
             ],
             [
              0.2222222222222222,
              "#7201a8"
             ],
             [
              0.3333333333333333,
              "#9c179e"
             ],
             [
              0.4444444444444444,
              "#bd3786"
             ],
             [
              0.5555555555555556,
              "#d8576b"
             ],
             [
              0.6666666666666666,
              "#ed7953"
             ],
             [
              0.7777777777777778,
              "#fb9f3a"
             ],
             [
              0.8888888888888888,
              "#fdca26"
             ],
             [
              1,
              "#f0f921"
             ]
            ],
            "type": "histogram2dcontour"
           }
          ],
          "mesh3d": [
           {
            "colorbar": {
             "outlinewidth": 0,
             "ticks": ""
            },
            "type": "mesh3d"
           }
          ],
          "parcoords": [
           {
            "line": {
             "colorbar": {
              "outlinewidth": 0,
              "ticks": ""
             }
            },
            "type": "parcoords"
           }
          ],
          "pie": [
           {
            "automargin": true,
            "type": "pie"
           }
          ],
          "scatter": [
           {
            "fillpattern": {
             "fillmode": "overlay",
             "size": 10,
             "solidity": 0.2
            },
            "type": "scatter"
           }
          ],
          "scatter3d": [
           {
            "line": {
             "colorbar": {
              "outlinewidth": 0,
              "ticks": ""
             }
            },
            "marker": {
             "colorbar": {
              "outlinewidth": 0,
              "ticks": ""
             }
            },
            "type": "scatter3d"
           }
          ],
          "scattercarpet": [
           {
            "marker": {
             "colorbar": {
              "outlinewidth": 0,
              "ticks": ""
             }
            },
            "type": "scattercarpet"
           }
          ],
          "scattergeo": [
           {
            "marker": {
             "colorbar": {
              "outlinewidth": 0,
              "ticks": ""
             }
            },
            "type": "scattergeo"
           }
          ],
          "scattergl": [
           {
            "marker": {
             "colorbar": {
              "outlinewidth": 0,
              "ticks": ""
             }
            },
            "type": "scattergl"
           }
          ],
          "scattermapbox": [
           {
            "marker": {
             "colorbar": {
              "outlinewidth": 0,
              "ticks": ""
             }
            },
            "type": "scattermapbox"
           }
          ],
          "scatterpolar": [
           {
            "marker": {
             "colorbar": {
              "outlinewidth": 0,
              "ticks": ""
             }
            },
            "type": "scatterpolar"
           }
          ],
          "scatterpolargl": [
           {
            "marker": {
             "colorbar": {
              "outlinewidth": 0,
              "ticks": ""
             }
            },
            "type": "scatterpolargl"
           }
          ],
          "scatterternary": [
           {
            "marker": {
             "colorbar": {
              "outlinewidth": 0,
              "ticks": ""
             }
            },
            "type": "scatterternary"
           }
          ],
          "surface": [
           {
            "colorbar": {
             "outlinewidth": 0,
             "ticks": ""
            },
            "colorscale": [
             [
              0,
              "#0d0887"
             ],
             [
              0.1111111111111111,
              "#46039f"
             ],
             [
              0.2222222222222222,
              "#7201a8"
             ],
             [
              0.3333333333333333,
              "#9c179e"
             ],
             [
              0.4444444444444444,
              "#bd3786"
             ],
             [
              0.5555555555555556,
              "#d8576b"
             ],
             [
              0.6666666666666666,
              "#ed7953"
             ],
             [
              0.7777777777777778,
              "#fb9f3a"
             ],
             [
              0.8888888888888888,
              "#fdca26"
             ],
             [
              1,
              "#f0f921"
             ]
            ],
            "type": "surface"
           }
          ],
          "table": [
           {
            "cells": {
             "fill": {
              "color": "#EBF0F8"
             },
             "line": {
              "color": "white"
             }
            },
            "header": {
             "fill": {
              "color": "#C8D4E3"
             },
             "line": {
              "color": "white"
             }
            },
            "type": "table"
           }
          ]
         },
         "layout": {
          "annotationdefaults": {
           "arrowcolor": "#2a3f5f",
           "arrowhead": 0,
           "arrowwidth": 1
          },
          "autotypenumbers": "strict",
          "coloraxis": {
           "colorbar": {
            "outlinewidth": 0,
            "ticks": ""
           }
          },
          "colorscale": {
           "diverging": [
            [
             0,
             "#8e0152"
            ],
            [
             0.1,
             "#c51b7d"
            ],
            [
             0.2,
             "#de77ae"
            ],
            [
             0.3,
             "#f1b6da"
            ],
            [
             0.4,
             "#fde0ef"
            ],
            [
             0.5,
             "#f7f7f7"
            ],
            [
             0.6,
             "#e6f5d0"
            ],
            [
             0.7,
             "#b8e186"
            ],
            [
             0.8,
             "#7fbc41"
            ],
            [
             0.9,
             "#4d9221"
            ],
            [
             1,
             "#276419"
            ]
           ],
           "sequential": [
            [
             0,
             "#0d0887"
            ],
            [
             0.1111111111111111,
             "#46039f"
            ],
            [
             0.2222222222222222,
             "#7201a8"
            ],
            [
             0.3333333333333333,
             "#9c179e"
            ],
            [
             0.4444444444444444,
             "#bd3786"
            ],
            [
             0.5555555555555556,
             "#d8576b"
            ],
            [
             0.6666666666666666,
             "#ed7953"
            ],
            [
             0.7777777777777778,
             "#fb9f3a"
            ],
            [
             0.8888888888888888,
             "#fdca26"
            ],
            [
             1,
             "#f0f921"
            ]
           ],
           "sequentialminus": [
            [
             0,
             "#0d0887"
            ],
            [
             0.1111111111111111,
             "#46039f"
            ],
            [
             0.2222222222222222,
             "#7201a8"
            ],
            [
             0.3333333333333333,
             "#9c179e"
            ],
            [
             0.4444444444444444,
             "#bd3786"
            ],
            [
             0.5555555555555556,
             "#d8576b"
            ],
            [
             0.6666666666666666,
             "#ed7953"
            ],
            [
             0.7777777777777778,
             "#fb9f3a"
            ],
            [
             0.8888888888888888,
             "#fdca26"
            ],
            [
             1,
             "#f0f921"
            ]
           ]
          },
          "colorway": [
           "#636efa",
           "#EF553B",
           "#00cc96",
           "#ab63fa",
           "#FFA15A",
           "#19d3f3",
           "#FF6692",
           "#B6E880",
           "#FF97FF",
           "#FECB52"
          ],
          "font": {
           "color": "#2a3f5f"
          },
          "geo": {
           "bgcolor": "white",
           "lakecolor": "white",
           "landcolor": "#E5ECF6",
           "showlakes": true,
           "showland": true,
           "subunitcolor": "white"
          },
          "hoverlabel": {
           "align": "left"
          },
          "hovermode": "closest",
          "mapbox": {
           "style": "light"
          },
          "paper_bgcolor": "white",
          "plot_bgcolor": "#E5ECF6",
          "polar": {
           "angularaxis": {
            "gridcolor": "white",
            "linecolor": "white",
            "ticks": ""
           },
           "bgcolor": "#E5ECF6",
           "radialaxis": {
            "gridcolor": "white",
            "linecolor": "white",
            "ticks": ""
           }
          },
          "scene": {
           "xaxis": {
            "backgroundcolor": "#E5ECF6",
            "gridcolor": "white",
            "gridwidth": 2,
            "linecolor": "white",
            "showbackground": true,
            "ticks": "",
            "zerolinecolor": "white"
           },
           "yaxis": {
            "backgroundcolor": "#E5ECF6",
            "gridcolor": "white",
            "gridwidth": 2,
            "linecolor": "white",
            "showbackground": true,
            "ticks": "",
            "zerolinecolor": "white"
           },
           "zaxis": {
            "backgroundcolor": "#E5ECF6",
            "gridcolor": "white",
            "gridwidth": 2,
            "linecolor": "white",
            "showbackground": true,
            "ticks": "",
            "zerolinecolor": "white"
           }
          },
          "shapedefaults": {
           "line": {
            "color": "#2a3f5f"
           }
          },
          "ternary": {
           "aaxis": {
            "gridcolor": "white",
            "linecolor": "white",
            "ticks": ""
           },
           "baxis": {
            "gridcolor": "white",
            "linecolor": "white",
            "ticks": ""
           },
           "bgcolor": "#E5ECF6",
           "caxis": {
            "gridcolor": "white",
            "linecolor": "white",
            "ticks": ""
           }
          },
          "title": {
           "x": 0.05
          },
          "xaxis": {
           "automargin": true,
           "gridcolor": "white",
           "linecolor": "white",
           "ticks": "",
           "title": {
            "standoff": 15
           },
           "zerolinecolor": "white",
           "zerolinewidth": 2
          },
          "yaxis": {
           "automargin": true,
           "gridcolor": "white",
           "linecolor": "white",
           "ticks": "",
           "title": {
            "standoff": 15
           },
           "zerolinecolor": "white",
           "zerolinewidth": 2
          }
         }
        }
       }
      },
      "image/png": "[encoded data removed]"
     },
     "metadata": {},
     "output_type": "display_data"
    }
   ],
   "source": [
    "# solution\n",
    "# use plotly to create a 3d scatter plot of thickness, area, and latitude\n",
    "px.scatter_3d(\n",
    "    data_frame=sub_filtered_df,\n",
    "    x='log_mean_thickness',\n",
    "    y='log_area',\n",
    "    z='latitude',\n",
    "    color='latitude',\n",
    ")\n",
    "    "
   ]
  },
  {
   "cell_type": "markdown",
   "metadata": {},
   "source": [
    "### c) Pandas Correlation function (1 point)\n",
    "\n",
    "You may use Pandas functionalities to explore correlation between data. Use the function ``corr`` on the dataframe and the matplotlib function ``matshow`` to plot a heatmap of the correlations"
   ]
  },
  {
   "cell_type": "code",
   "execution_count": 32,
   "metadata": {},
   "outputs": [
    {
     "data": {
      "text/plain": [
       "<matplotlib.colorbar.Colorbar at 0x7f0911fd3700>"
      ]
     },
     "execution_count": 32,
     "metadata": {},
     "output_type": "execute_result"
    },
    {
     "data": {
      "image/png": "[encoded data removed]",
      "text/plain": [
       "<Figure size 480x480 with 2 Axes>"
      ]
     },
     "metadata": {},
     "output_type": "display_data"
    }
   ],
   "source": [
    "#solution\n",
    "cols = ['latitude','mean_thickness','area','mean_slope']\n",
    "glacier_df_corr = sub_filtered_df[cols].corr()\n",
    "plt.matshow(glacier_df_corr, cmap='RdBu')\n",
    "plt.xticks(ticks=[0,1,2,3],labels=cols,rotation=30, ha='center')\n",
    "plt.yticks(ticks=[0,1,2,3],labels=cols,rotation=0)\n",
    "plt.colorbar(label='correlation')"
   ]
  },
  {
   "cell_type": "markdown",
   "metadata": {},
   "source": [
    "### f) Seaborn Plotting (1 point)\n",
    "\n",
    "Seaborn is a great python package for basic data anlytics. See documentation [here](!https://seaborn.pydata.org/). You can visualize the data by plotting data features against each other and explore visually data correlations."
   ]
  },
  {
   "cell_type": "code",
   "execution_count": 34,
   "metadata": {},
   "outputs": [
    {
     "data": {
      "text/plain": [
       "<AxesSubplot: >"
      ]
     },
     "execution_count": 34,
     "metadata": {},
     "output_type": "execute_result"
    },
    {
     "data": {
      "image/png": "[encoded data removed]",
      "text/plain": [
       "<Figure size 640x480 with 2 Axes>"
      ]
     },
     "metadata": {},
     "output_type": "display_data"
    }
   ],
   "source": [
    "# solution\n",
    "import seaborn as sns\n",
    "# plot heatmap with seaborn and label values\n",
    "sns.heatmap(glacier_df_corr, annot=True)\n",
    "\n"
   ]
  },
  {
   "cell_type": "markdown",
   "metadata": {},
   "source": [
    "Discuss the basic correlations among the data. Do these correction make sense when you think about the shapes of glaciers?"
   ]
  },
  {
   "cell_type": "markdown",
   "metadata": {},
   "source": [
    "Here, we see that thickness and slope are somewhat negatively correlated, while area and thickness are somewhat positively correlated. Thickness and latitude are also somewhat positively correlated.\n",
    "\n",
    "We would expect these relationships because:\n",
    "1) a steep slope would imply that the glacial ice would flow faster towards its terminous, leaving less time for the ice thickness to build up;\n",
    "2) a larger glacier that covers a larger area would be expected to have a lot more ice to maintain the larger footprint, so the mean thickness would be expected to be greater;\n",
    "3) with cooler temperatures at higher latitudes, glaciers would be expected to grow thicker than glaciers at lower latitudes with warmer temperatures."
   ]
  },
  {
   "cell_type": "markdown",
   "metadata": {},
   "source": [
    "## 4. Linear Regression (10 points total counted in the next section)\n",
    "You found from basic data visualization that the three parameters ``mean_slope``, ``mean_thickness``, and ``area`` are correlated. It does make physical sense because a *steep* glaciers is likely to be in the high mountains regions, hanging on the mountain walls, and thus be constrained, and conversely, a flat glacier is either at its valley, ocean terminus or on ice sheets.\n",
    "\n",
    "### a) Simple linear regression (2 points)\n",
    "We will now perform a regression between the parameters (or their log!). Linear regressions are models that can be imported from scikit-learn. Log/exp functions in numpy as ``np.log()`` and ``np.exp()``.\n",
    "Remember that a linear regression is finding $a$ and $b$ knowing both $x$ and the data $y$ in $y = Ax +b$. We want to predict ice thickness from a crude estimate of the glacier area.\n",
    "\n",
    "__Tips__: \n",
    "a. make sure that the dimensions are correct and that there is no NaNs and zeros.\n",
    "b. Make sure to inport the scikit learn linear regression function and the error metrics."
   ]
  },
  {
   "cell_type": "code",
   "execution_count": 37,
   "metadata": {},
   "outputs": [],
   "source": [
    "# solution\n",
    "from sklearn.linear_model import LinearRegression\n",
    "from sklearn.metrics import mean_squared_error, r2_score\n",
    "\n"
   ]
  },
  {
   "cell_type": "markdown",
   "metadata": {},
   "source": [
    "Make a plot of the data and the linear regression your performed"
   ]
  },
  {
   "cell_type": "code",
   "execution_count": 77,
   "metadata": {},
   "outputs": [
    {
     "name": "stdout",
     "output_type": "stream",
     "text": [
      "Coefficients: \n",
      " [[0.27462361]]\n",
      "Mean squared error: 0.24\n",
      "Coefficient of determination: 0.57\n"
     ]
    },
    {
     "data": {
      "image/png": "[encoded data removed]",
      "text/plain": [
       "<Figure size 640x480 with 1 Axes>"
      ]
     },
     "metadata": {},
     "output_type": "display_data"
    }
   ],
   "source": [
    "# solution\n",
    "# Grab the data i want and drop nans\n",
    "thickness_area_df = glacier_df[['mean_thickness','area']].dropna()\n",
    "# save the two columns i want to build me regression from\n",
    "# to avoid an error, need to add double brackets\n",
    "X = np.log(np.asarray(thickness_area_df['area'])).reshape(-1, 1)\n",
    "y = np.log(np.asarray(thickness_area_df['mean_thickness'])).reshape(-1, 1)\n",
    "# Create linear regression object\n",
    "regr = LinearRegression()\n",
    "\n",
    "# Train the model using the training sets\n",
    "regr.fit(X, y)\n",
    "\n",
    "# Make predictions using the testing set\n",
    "y_pred = regr.predict(X)\n",
    "\n",
    "plt.scatter(X,y, ec='k', color='#ef8a62')\n",
    "plt.plot(np.sort(X),np.sort(y_pred), lw='3', color='#67a9cf')\n",
    "plt.xlabel('Log(area)')\n",
    "plt.ylabel('Log(thickness)')\n",
    "plt.title('linear regression: glacier thickness predicted from area')\n",
    "\n",
    "\n",
    "# The coefficients\n",
    "print(\"Coefficients: \\n\", regr.coef_)\n",
    "# The mean squared error\n",
    "print(\"Mean squared error: %.2f\" % mean_squared_error(y, y_pred))\n",
    "# The coefficient of determination: 1 is perfect prediction\n",
    "print(\"Coefficient of determination: %.2f\" % r2_score(y, y_pred))\n"
   ]
  },
  {
   "cell_type": "markdown",
   "metadata": {},
   "source": [
    "**Briefly comment on the quality of your fit and a linear regression (1 point)**"
   ]
  },
  {
   "cell_type": "markdown",
   "metadata": {},
   "source": [
    "The fit looks okay, except outliers on either end seem to really define the regression. Additionally, there is quite a bit of spread around the line throughout the middle of the data"
   ]
  },
  {
   "cell_type": "markdown",
   "metadata": {},
   "source": [
    "### b) Leave One Out Cross Validation linear regression (1 point)\n",
    "\n",
    "\n",
    "Perform the LOCCV on the ``area`` and ``thickness`` values. Predict the ``thickness`` value knowing a ``area`` value. Use material seen in class. Make a plot of your fit."
   ]
  },
  {
   "cell_type": "code",
   "execution_count": 174,
   "metadata": {},
   "outputs": [
    {
     "name": "stdout",
     "output_type": "stream",
     "text": [
      "mean of the slope estimates 0.2746244.2 and the standard deviation 0.0005124.2\n",
      "CV = 0.24\n"
     ]
    },
    {
     "data": {
      "image/png": "[encoded data removed]",
      "text/plain": [
       "<Figure size 640x480 with 1 Axes>"
      ]
     },
     "metadata": {},
     "output_type": "display_data"
    }
   ],
   "source": [
    "from sklearn.model_selection import LeaveOneOut\n",
    "loo = LeaveOneOut()\n",
    "\n",
    "slope = np.zeros(len(X)) # initalize a vector to store the regression values\n",
    "mse_train = np.zeros(len(X))\n",
    "mse_val = np.zeros(len(X))\n",
    "fig, ax = plt.subplots()\n",
    "ax.scatter(X,y)\n",
    "i=0\n",
    "for train_index, test_index in loo.split(X):    \n",
    "    # split into train and test sets for LOO\n",
    "    X_train, X_val = X[train_index], X[test_index]\n",
    "    y_train, y_val = y[train_index], y[test_index]\n",
    "    # now fit the data on the training set.\n",
    "    regr = LinearRegression()\n",
    "    # Fit on training data:\n",
    "    regr.fit(X_train,y_train)\n",
    "    # We will first predict the fit:\n",
    "    ypred_train=regr.predict(X_train) \n",
    "    ypred_val=regr.predict(X_val) \n",
    "    \n",
    "    # plot the line\n",
    "    ax.plot(X_train,ypred_train)\n",
    "    # The coefficients\n",
    "    slope[i]= regr.coef_[0][0]\n",
    "    mse_train[i]= mean_squared_error(y_train, ypred_train)\n",
    "    mse_val[i]= mean_squared_error(y_val, ypred_val)\n",
    "    i+=1\n",
    "plt.xlabel('Log(area)')\n",
    "plt.ylabel('Log(thickness)')\n",
    "plt.title('linear regression with LOOCV: glacier thickness predicted from area')\n",
    "print(\"mean of the slope estimates %f4.2 and the standard deviation %f4.2\"%(np.mean(slope),np.std(slope)))\n",
    "# the test error is the average of the mean-square-errors\n",
    "print(\"CV = %4.2f\"%(np.mean(mse_val)))"
   ]
  },
  {
   "cell_type": "markdown",
   "metadata": {},
   "source": [
    "### c) Bootstrapping (1 point)\n",
    "\n",
    "Perform the same analysis but using a bootstrapping technique. Output the mean and standard deviation of the slope. An illustration with a histogram  may help."
   ]
  },
  {
   "cell_type": "code",
   "execution_count": 135,
   "metadata": {},
   "outputs": [],
   "source": [
    "from sklearn.utils import resample\n",
    "# solution\n",
    "\n",
    "k=100\n",
    "slope = np.zeros(len(X)) # initalize a vector to store the regression values\n",
    "mse = np.zeros(len(X))\n",
    "r2s = np.zeros(len(X))\n",
    "i=0\n",
    "for i,val in enumerate(X):    \n",
    "    ii = resample(np.arange(len(X)),replace=True,n_samples=len(X))# new indices\n",
    "    X_b, y_b = X[ii], y[ii]\n",
    "    # now fit the data on the training set.\n",
    "    regr = LinearRegression()\n",
    "    # Fit on training data:\n",
    "    regr.fit(X_b,y_b)\n",
    "    ypred_val=regr.predict(X) # test on the validation set.\n",
    "\n",
    "    # save the coefficients\n",
    "    slope[i]= regr.coef_[0][0]\n",
    "    mse = mean_squared_error(y[ii], y_b)\n",
    "    r2s[i] = r2_score(y, y_b)"
   ]
  },
  {
   "cell_type": "code",
   "execution_count": 136,
   "metadata": {},
   "outputs": [
    {
     "data": {
      "text/plain": [
       "<matplotlib.legend.Legend at 0x7f090c521130>"
      ]
     },
     "execution_count": 136,
     "metadata": {},
     "output_type": "execute_result"
    },
    {
     "data": {
      "image/png": "[encoded data removed]",
      "text/plain": [
       "<Figure size 640x480 with 1 Axes>"
      ]
     },
     "metadata": {},
     "output_type": "display_data"
    }
   ],
   "source": [
    "plt.hist(slope, ec='k')\n",
    "# Plot the mean\n",
    "plt.axvline(np.mean(slope),color='red', label=f'mean = {np.round(np.mean(slope),2)}')\n",
    "# Plot standard deviations\n",
    "plt.axvline(np.mean(slope)+np.std(slope), \n",
    "            color='grey', \n",
    "            ls='--')\n",
    "plt.axvline(np.mean(slope)-np.std(slope), \n",
    "            color='grey', \n",
    "            ls='--', \n",
    "            label=f'std dev = $\\pm${np.round(np.std(slope),2)}')\n",
    "plt.xlabel('Slope')\n",
    "plt.ylabel('Counts')\n",
    "plt.title(f'Linear regression bootstrap results for k={k}')\n",
    "plt.legend()"
   ]
  },
  {
   "cell_type": "markdown",
   "metadata": {},
   "source": [
    "### d) Predict the thickness of a glacier (2 points)\n",
    "\n",
    "Let assume that you measure a glacier of area 10 km$^2$. Can you use your bootstrap regression framework to provide a distribution of possible values of the ice thickness ? Output the mean and standard deviation of the predicted ice thickness."
   ]
  },
  {
   "cell_type": "code",
   "execution_count": 156,
   "metadata": {},
   "outputs": [],
   "source": [
    "# solution\n",
    "input_val = np.log(10) # input for glacier area\n",
    "output = np.zeros(len(X)) # initalize a vector to store the regression values\n",
    "mse = np.zeros(len(X))\n",
    "r2s = np.zeros(len(X))\n",
    "i=0\n",
    "for i,val in enumerate(X):    \n",
    "    ii = resample(np.arange(len(X)),replace=True,n_samples=len(X))# new indices\n",
    "    X_b, y_b = X[ii], y[ii]\n",
    "    # now fit the data on the training set.\n",
    "    regr = LinearRegression()\n",
    "    # Fit on training data:\n",
    "    regr.fit(X_b,y_b)\n",
    "    ypred_val=regr.predict(X) # test on the validation set.\n",
    "    \n",
    "    # save the output and remove from log space\n",
    "    slope = regr.coef_[0][0] \n",
    "    intercept = regr.intercept_[0]\n",
    "    output[i] = np.exp(slope*input_val+intercept)\n",
    "    \n"
   ]
  },
  {
   "cell_type": "code",
   "execution_count": 161,
   "metadata": {},
   "outputs": [
    {
     "data": {
      "text/plain": [
       "<matplotlib.legend.Legend at 0x7f09120581f0>"
      ]
     },
     "execution_count": 161,
     "metadata": {},
     "output_type": "execute_result"
    },
    {
     "data": {
      "image/png": "[encoded data removed]",
      "text/plain": [
       "<Figure size 640x480 with 1 Axes>"
      ]
     },
     "metadata": {},
     "output_type": "display_data"
    }
   ],
   "source": [
    "plt.hist(output, ec='k')\n",
    "# Plot the mean\n",
    "plt.axvline(np.mean(output),color='red', label=f'mean = {np.round(np.mean(output),2)} m')\n",
    "# Plot standard deviations\n",
    "plt.axvline(np.mean(output)+np.std(output), \n",
    "            color='grey', \n",
    "            ls='--')\n",
    "plt.axvline(np.mean(output)-np.std(output), \n",
    "            color='grey', \n",
    "            ls='--', \n",
    "            label=f'std dev = $\\pm${np.round(np.std(output),2)} m')\n",
    "plt.xlabel('Thickness (m)')\n",
    "plt.ylabel('Counts')\n",
    "plt.title(f'Linear regression bootstrap results for k={k}\\nEstimating glacier thickness from area = 10 km$^2$')\n",
    "plt.legend()"
   ]
  }
 ],
 "metadata": {
  "kernelspec": {
   "display_name": "Python 3 (ipykernel)",
   "language": "python",
   "name": "python3"
  },
  "language_info": {
   "codemirror_mode": {
    "name": "ipython",
    "version": 3
   },
   "file_extension": ".py",
   "mimetype": "text/x-python",
   "name": "python",
   "nbconvert_exporter": "python",
   "pygments_lexer": "ipython3",
   "version": "3.8.15"
  },
  "vscode": {
   "interpreter": {
    "hash": "1c2df93b363d800c8a9b94963221f1be1d8deaf6a76f83b6b9a486ad05d69583"
   }
  }
 },
 "nbformat": 4,
 "nbformat_minor": 4
}
